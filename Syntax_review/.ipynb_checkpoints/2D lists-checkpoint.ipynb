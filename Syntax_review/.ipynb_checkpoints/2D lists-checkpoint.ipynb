{
 "cells": [
  {
   "cell_type": "code",
   "execution_count": 2,
   "id": "840d075c-e5ba-4481-a806-b0fd9c37d519",
   "metadata": {},
   "outputs": [
    {
     "data": {
      "text/plain": [
       "range(0, 10)"
      ]
     },
     "execution_count": 2,
     "metadata": {},
     "output_type": "execute_result"
    }
   ],
   "source": [
    "range(0, 10)"
   ]
  },
  {
   "cell_type": "code",
   "execution_count": 3,
   "id": "927270ce-a885-45e4-a977-591f0bd30307",
   "metadata": {},
   "outputs": [],
   "source": [
    "my_list = range(0, 10)"
   ]
  },
  {
   "cell_type": "code",
   "execution_count": 4,
   "id": "0a8bc7fa-35ff-4ea5-8bbe-8c9df321dac6",
   "metadata": {},
   "outputs": [
    {
     "data": {
      "text/plain": [
       "range(0, 10)"
      ]
     },
     "execution_count": 4,
     "metadata": {},
     "output_type": "execute_result"
    }
   ],
   "source": [
    "my_list"
   ]
  },
  {
   "cell_type": "code",
   "execution_count": 5,
   "id": "0ea94d6c-447e-4548-9309-a20555682466",
   "metadata": {},
   "outputs": [
    {
     "data": {
      "text/plain": [
       "range"
      ]
     },
     "execution_count": 5,
     "metadata": {},
     "output_type": "execute_result"
    }
   ],
   "source": [
    "type(my_list)"
   ]
  },
  {
   "cell_type": "code",
   "execution_count": 7,
   "id": "2700a3ca-adce-4c04-8d87-2495af2573f7",
   "metadata": {},
   "outputs": [
    {
     "data": {
      "text/plain": [
       "[0, 1, 2, 3, 4, 5, 6, 7, 8, 9]"
      ]
     },
     "execution_count": 7,
     "metadata": {},
     "output_type": "execute_result"
    }
   ],
   "source": [
    "my_list = list(range(0,10))\n",
    "my_list"
   ]
  },
  {
   "cell_type": "code",
   "execution_count": 11,
   "id": "8879f146-bc3b-4658-86bd-df84db341b27",
   "metadata": {},
   "outputs": [
    {
     "data": {
      "text/plain": [
       "['x', 'x', 'x', 'x', 'x', 'x', 'x', 'x', 'x', 'x']"
      ]
     },
     "execution_count": 11,
     "metadata": {},
     "output_type": "execute_result"
    }
   ],
   "source": [
    "row = ['x' for i in range(0, 10)]\n",
    "row"
   ]
  },
  {
   "cell_type": "code",
   "execution_count": 12,
   "id": "30c3045b-9cf0-4f4e-9cb2-9ab888df9bfe",
   "metadata": {},
   "outputs": [
    {
     "name": "stdout",
     "output_type": "stream",
     "text": [
      "x\n",
      "x\n",
      "x\n",
      "x\n",
      "x\n",
      "x\n",
      "x\n",
      "x\n",
      "x\n",
      "x\n"
     ]
    }
   ],
   "source": [
    "for spot in row:\n",
    "    print(spot)"
   ]
  },
  {
   "cell_type": "code",
   "execution_count": 13,
   "id": "ad69f51a-2377-4335-982d-5f8fd07de1da",
   "metadata": {},
   "outputs": [
    {
     "name": "stdout",
     "output_type": "stream",
     "text": [
      "x\n",
      "x\n",
      "x\n",
      "x\n",
      "x\n",
      "x\n",
      "x\n",
      "x\n",
      "x\n",
      "x\n"
     ]
    }
   ],
   "source": [
    "for spot in row:\n",
    "    print(' '.join(spot))"
   ]
  },
  {
   "cell_type": "code",
   "execution_count": 14,
   "id": "f6d45274-f311-453a-a423-c501a3f29df0",
   "metadata": {},
   "outputs": [],
   "source": [
    "row1 = ['a' for i in range(0, 10)]\n",
    "row2 = ['b' for i in range(0, 10)]\n",
    "row3 = ['c' for i in range(0, 10)]\n",
    "canvas = [row1, row2, row3]"
   ]
  },
  {
   "cell_type": "code",
   "execution_count": 16,
   "id": "1e0d43c2-167e-4d4f-8c54-7810a08ef8bf",
   "metadata": {},
   "outputs": [
    {
     "data": {
      "text/plain": [
       "[['a', 'a', 'a', 'a', 'a', 'a', 'a', 'a', 'a', 'a'],\n",
       " ['b', 'b', 'b', 'b', 'b', 'b', 'b', 'b', 'b', 'b'],\n",
       " ['c', 'c', 'c', 'c', 'c', 'c', 'c', 'c', 'c', 'c']]"
      ]
     },
     "execution_count": 16,
     "metadata": {},
     "output_type": "execute_result"
    }
   ],
   "source": [
    "canvas"
   ]
  },
  {
   "cell_type": "code",
   "execution_count": 17,
   "id": "cb42ee60-d589-4b3f-8a5e-fca8f292d034",
   "metadata": {},
   "outputs": [
    {
     "name": "stdout",
     "output_type": "stream",
     "text": [
      "0\n",
      "1\n",
      "2\n",
      "3\n",
      "4\n",
      "5\n",
      "6\n",
      "7\n",
      "8\n",
      "9\n"
     ]
    }
   ],
   "source": [
    "for i in range(0, 10):\n",
    "    print(i)"
   ]
  },
  {
   "cell_type": "code",
   "execution_count": 19,
   "id": "6f460cb8-53bc-4ad3-bbc8-d5b2525f7459",
   "metadata": {},
   "outputs": [
    {
     "name": "stdout",
     "output_type": "stream",
     "text": [
      "i = 0\n",
      "j = 0\n",
      "\n",
      "i = 0\n",
      "j = 1\n",
      "\n",
      "i = 0\n",
      "j = 2\n",
      "\n",
      "i = 0\n",
      "j = 3\n",
      "\n",
      "i = 0\n",
      "j = 4\n",
      "\n",
      "i = 0\n",
      "j = 5\n",
      "\n",
      "i = 0\n",
      "j = 6\n",
      "\n",
      "i = 0\n",
      "j = 7\n",
      "\n",
      "i = 0\n",
      "j = 8\n",
      "\n",
      "i = 0\n",
      "j = 9\n",
      "\n",
      "i = 1\n",
      "j = 0\n",
      "\n",
      "i = 1\n",
      "j = 1\n",
      "\n",
      "i = 1\n",
      "j = 2\n",
      "\n",
      "i = 1\n",
      "j = 3\n",
      "\n",
      "i = 1\n",
      "j = 4\n",
      "\n",
      "i = 1\n",
      "j = 5\n",
      "\n",
      "i = 1\n",
      "j = 6\n",
      "\n",
      "i = 1\n",
      "j = 7\n",
      "\n",
      "i = 1\n",
      "j = 8\n",
      "\n",
      "i = 1\n",
      "j = 9\n",
      "\n",
      "i = 2\n",
      "j = 0\n",
      "\n",
      "i = 2\n",
      "j = 1\n",
      "\n",
      "i = 2\n",
      "j = 2\n",
      "\n",
      "i = 2\n",
      "j = 3\n",
      "\n",
      "i = 2\n",
      "j = 4\n",
      "\n",
      "i = 2\n",
      "j = 5\n",
      "\n",
      "i = 2\n",
      "j = 6\n",
      "\n",
      "i = 2\n",
      "j = 7\n",
      "\n",
      "i = 2\n",
      "j = 8\n",
      "\n",
      "i = 2\n",
      "j = 9\n",
      "\n",
      "i = 3\n",
      "j = 0\n",
      "\n",
      "i = 3\n",
      "j = 1\n",
      "\n",
      "i = 3\n",
      "j = 2\n",
      "\n",
      "i = 3\n",
      "j = 3\n",
      "\n",
      "i = 3\n",
      "j = 4\n",
      "\n",
      "i = 3\n",
      "j = 5\n",
      "\n",
      "i = 3\n",
      "j = 6\n",
      "\n",
      "i = 3\n",
      "j = 7\n",
      "\n",
      "i = 3\n",
      "j = 8\n",
      "\n",
      "i = 3\n",
      "j = 9\n",
      "\n",
      "i = 4\n",
      "j = 0\n",
      "\n",
      "i = 4\n",
      "j = 1\n",
      "\n",
      "i = 4\n",
      "j = 2\n",
      "\n",
      "i = 4\n",
      "j = 3\n",
      "\n",
      "i = 4\n",
      "j = 4\n",
      "\n",
      "i = 4\n",
      "j = 5\n",
      "\n",
      "i = 4\n",
      "j = 6\n",
      "\n",
      "i = 4\n",
      "j = 7\n",
      "\n",
      "i = 4\n",
      "j = 8\n",
      "\n",
      "i = 4\n",
      "j = 9\n",
      "\n",
      "i = 5\n",
      "j = 0\n",
      "\n",
      "i = 5\n",
      "j = 1\n",
      "\n",
      "i = 5\n",
      "j = 2\n",
      "\n",
      "i = 5\n",
      "j = 3\n",
      "\n",
      "i = 5\n",
      "j = 4\n",
      "\n",
      "i = 5\n",
      "j = 5\n",
      "\n",
      "i = 5\n",
      "j = 6\n",
      "\n",
      "i = 5\n",
      "j = 7\n",
      "\n",
      "i = 5\n",
      "j = 8\n",
      "\n",
      "i = 5\n",
      "j = 9\n",
      "\n",
      "i = 6\n",
      "j = 0\n",
      "\n",
      "i = 6\n",
      "j = 1\n",
      "\n",
      "i = 6\n",
      "j = 2\n",
      "\n",
      "i = 6\n",
      "j = 3\n",
      "\n",
      "i = 6\n",
      "j = 4\n",
      "\n",
      "i = 6\n",
      "j = 5\n",
      "\n",
      "i = 6\n",
      "j = 6\n",
      "\n",
      "i = 6\n",
      "j = 7\n",
      "\n",
      "i = 6\n",
      "j = 8\n",
      "\n",
      "i = 6\n",
      "j = 9\n",
      "\n",
      "i = 7\n",
      "j = 0\n",
      "\n",
      "i = 7\n",
      "j = 1\n",
      "\n",
      "i = 7\n",
      "j = 2\n",
      "\n",
      "i = 7\n",
      "j = 3\n",
      "\n",
      "i = 7\n",
      "j = 4\n",
      "\n",
      "i = 7\n",
      "j = 5\n",
      "\n",
      "i = 7\n",
      "j = 6\n",
      "\n",
      "i = 7\n",
      "j = 7\n",
      "\n",
      "i = 7\n",
      "j = 8\n",
      "\n",
      "i = 7\n",
      "j = 9\n",
      "\n",
      "i = 8\n",
      "j = 0\n",
      "\n",
      "i = 8\n",
      "j = 1\n",
      "\n",
      "i = 8\n",
      "j = 2\n",
      "\n",
      "i = 8\n",
      "j = 3\n",
      "\n",
      "i = 8\n",
      "j = 4\n",
      "\n",
      "i = 8\n",
      "j = 5\n",
      "\n",
      "i = 8\n",
      "j = 6\n",
      "\n",
      "i = 8\n",
      "j = 7\n",
      "\n",
      "i = 8\n",
      "j = 8\n",
      "\n",
      "i = 8\n",
      "j = 9\n",
      "\n",
      "i = 9\n",
      "j = 0\n",
      "\n",
      "i = 9\n",
      "j = 1\n",
      "\n",
      "i = 9\n",
      "j = 2\n",
      "\n",
      "i = 9\n",
      "j = 3\n",
      "\n",
      "i = 9\n",
      "j = 4\n",
      "\n",
      "i = 9\n",
      "j = 5\n",
      "\n",
      "i = 9\n",
      "j = 6\n",
      "\n",
      "i = 9\n",
      "j = 7\n",
      "\n",
      "i = 9\n",
      "j = 8\n",
      "\n",
      "i = 9\n",
      "j = 9\n",
      "\n"
     ]
    }
   ],
   "source": [
    "for i in range(0,10):\n",
    "    for j in range(0, 10):\n",
    "        print('i = ' + str(i))\n",
    "        print('j = ' + str(j))\n",
    "        print()"
   ]
  },
  {
   "cell_type": "code",
   "execution_count": null,
   "id": "3c56c0d3-6686-48eb-bdfe-95ef5a6ee249",
   "metadata": {},
   "outputs": [],
   "source": []
  },
  {
   "cell_type": "code",
   "execution_count": 20,
   "id": "86a830dc-f76e-40b4-997e-f2eb7e95f27c",
   "metadata": {},
   "outputs": [],
   "source": [
    "row1 = ['a' for i in range(0, 10)]\n",
    "row2 = ['b' for i in range(0, 10)]\n",
    "row3 = ['c' for i in range(0, 10)]\n",
    "canvas = [row1, row2, row3]"
   ]
  },
  {
   "cell_type": "code",
   "execution_count": 24,
   "id": "4abb2e15-9067-4fd5-9f40-4f16e48f5eb2",
   "metadata": {},
   "outputs": [
    {
     "data": {
      "text/plain": [
       "'a b c'"
      ]
     },
     "execution_count": 24,
     "metadata": {},
     "output_type": "execute_result"
    }
   ],
   "source": [
    "' '.join([row[1] for row in canvas])"
   ]
  },
  {
   "cell_type": "code",
   "execution_count": null,
   "id": "58b55c8e-30f1-4179-be76-6c5c40b2ac97",
   "metadata": {},
   "outputs": [],
   "source": []
  }
 ],
 "metadata": {
  "kernelspec": {
   "display_name": "Python 3 (ipykernel)",
   "language": "python",
   "name": "python3"
  },
  "language_info": {
   "codemirror_mode": {
    "name": "ipython",
    "version": 3
   },
   "file_extension": ".py",
   "mimetype": "text/x-python",
   "name": "python",
   "nbconvert_exporter": "python",
   "pygments_lexer": "ipython3",
   "version": "3.11.0"
  }
 },
 "nbformat": 4,
 "nbformat_minor": 5
}
