{
 "cells": [
  {
   "cell_type": "markdown",
   "id": "02d7dd47-3d48-4f81-bf3f-32181be3cecb",
   "metadata": {},
   "source": [
    "If/Else sytnax in Python:"
   ]
  },
  {
   "cell_type": "code",
   "execution_count": 2,
   "id": "6f28a735-d33d-48b2-8d03-0fbe7b25d35f",
   "metadata": {},
   "outputs": [
    {
     "name": "stdout",
     "output_type": "stream",
     "text": [
      "a is true.\n"
     ]
    }
   ],
   "source": [
    "a = True\n",
    "if a:\n",
    "    print('a is true.')\n",
    "else:\n",
    "    print('a is false.')"
   ]
  },
  {
   "cell_type": "markdown",
   "id": "990f2d69-ce62-43a1-9f73-fcf077835199",
   "metadata": {},
   "source": [
    "For loops iterate over any iterable. I am not sure if you can alter items in the iterable, so let's test that:\n"
   ]
  },
  {
   "cell_type": "code",
   "execution_count": 3,
   "id": "0c4bcbfc-92d1-4167-91b9-72de1312808f",
   "metadata": {},
   "outputs": [
    {
     "data": {
      "text/plain": [
       "list"
      ]
     },
     "execution_count": 3,
     "metadata": {},
     "output_type": "execute_result"
    }
   ],
   "source": [
    "a = [1, 2, 3, 4, 5]\n",
    "type(a)"
   ]
  },
  {
   "cell_type": "code",
   "execution_count": 4,
   "id": "93a4d8e6-0fed-404c-a283-74b43e262ba8",
   "metadata": {},
   "outputs": [
    {
     "data": {
      "text/plain": [
       "set"
      ]
     },
     "execution_count": 4,
     "metadata": {},
     "output_type": "execute_result"
    }
   ],
   "source": [
    "b = {1, 2, 3, 4}\n",
    "type(b)"
   ]
  },
  {
   "cell_type": "code",
   "execution_count": 6,
   "id": "06124f6a-15f7-48ef-9f4d-ede6c58e7341",
   "metadata": {},
   "outputs": [
    {
     "name": "stdout",
     "output_type": "stream",
     "text": [
      "1\n",
      "2\n",
      "3\n",
      "4\n",
      "5\n"
     ]
    }
   ],
   "source": [
    "for num in a:\n",
    "    print(num)"
   ]
  },
  {
   "cell_type": "code",
   "execution_count": 7,
   "id": "7e9c9839-9837-4e68-a31b-0388c0690af7",
   "metadata": {},
   "outputs": [
    {
     "name": "stdout",
     "output_type": "stream",
     "text": [
      "[1, 2, 3, 4]\n",
      "2\n",
      "3\n",
      "4\n",
      "5\n",
      "[1, 2, 3, 4]\n"
     ]
    }
   ],
   "source": [
    "a = [1, 2, 3, 4]\n",
    "print(a)\n",
    "for num in a:\n",
    "    num = num + 1\n",
    "    print(num)\n",
    "\n",
    "print(a)"
   ]
  },
  {
   "cell_type": "code",
   "execution_count": 9,
   "id": "0ad1c05f-131b-4139-9d5a-a0f7d1cc40aa",
   "metadata": {},
   "outputs": [
    {
     "name": "stdout",
     "output_type": "stream",
     "text": [
      "[1, 2, 3, 4]\n",
      "[2, 3, 4, 5]\n"
     ]
    }
   ],
   "source": [
    "a = [1, 2, 3, 4]\n",
    "i = 0\n",
    "print(a)\n",
    "for num in a:\n",
    "    a[i] = a[i] + 1\n",
    "    i = i + 1\n",
    "\n",
    "print(a)"
   ]
  },
  {
   "cell_type": "markdown",
   "id": "e42f62c8-0993-4ea6-9a93-32a3b06c1b3f",
   "metadata": {},
   "source": [
    "Okay, so it appears that you can change the iterable inside the for loop, but not using the assigned variable, which makes sense. I know I am being a beginner programmer and that was probably obvious to everyone else. I just like to learn/remind myself in a hands-on way. "
   ]
  },
  {
   "cell_type": "code",
   "execution_count": 10,
   "id": "0f16eb3b-25fd-473c-b64e-892eee65eab8",
   "metadata": {},
   "outputs": [
    {
     "name": "stdout",
     "output_type": "stream",
     "text": [
      "0\n",
      "1\n",
      "2\n",
      "3\n",
      "4\n"
     ]
    }
   ],
   "source": [
    "i = 0\n",
    "while i < 5:\n",
    "    print(i)\n",
    "    i = i + 1"
   ]
  },
  {
   "cell_type": "code",
   "execution_count": 11,
   "id": "3d1f633d-86fd-4e25-922e-7b69a1e99d5c",
   "metadata": {},
   "outputs": [],
   "source": [
    "import math"
   ]
  },
  {
   "cell_type": "code",
   "execution_count": 14,
   "id": "0b60ed21-b1a8-4782-a60e-a9122f79a31e",
   "metadata": {
    "scrolled": true
   },
   "outputs": [
    {
     "name": "stdout",
     "output_type": "stream",
     "text": [
      "-0.3420201433256687\n"
     ]
    }
   ],
   "source": [
    "dy = (math.cos((110/180) * math.pi))\n",
    "print(dy)"
   ]
  },
  {
   "cell_type": "code",
   "execution_count": 15,
   "id": "75427c15-eb86-4be5-9325-a2d6a9633af1",
   "metadata": {},
   "outputs": [
    {
     "name": "stdout",
     "output_type": "stream",
     "text": [
      "-0.766044443118978\n"
     ]
    }
   ],
   "source": [
    "dy = (math.cos((220/180) * math.pi))\n",
    "print(dy)"
   ]
  },
  {
   "cell_type": "code",
   "execution_count": 17,
   "id": "7c751c10-147f-49be-a20c-a59ebb8ae69d",
   "metadata": {},
   "outputs": [
    {
     "name": "stdout",
     "output_type": "stream",
     "text": [
      "-0.6427876096865393\n"
     ]
    }
   ],
   "source": [
    "dx = (math.sin((220/180) * math.pi))\n",
    "print(dx)"
   ]
  },
  {
   "cell_type": "code",
   "execution_count": 18,
   "id": "0455ecf2-8bc0-4337-bbfc-27c1d5b986bd",
   "metadata": {},
   "outputs": [
    {
     "name": "stdout",
     "output_type": "stream",
     "text": [
      "1\n",
      "2\n",
      "Fizz\n",
      "4\n",
      "Buzz\n",
      "Fizz\n",
      "7\n",
      "8\n",
      "Fizz\n",
      "Buzz\n",
      "11\n",
      "Fizz\n",
      "13\n",
      "14\n",
      "FizzBuzz\n",
      "16\n",
      "17\n",
      "Fizz\n",
      "19\n",
      "Buzz\n",
      "Fizz\n",
      "22\n",
      "23\n",
      "Fizz\n",
      "Buzz\n",
      "26\n",
      "Fizz\n",
      "28\n",
      "29\n",
      "FizzBuzz\n",
      "31\n",
      "32\n",
      "Fizz\n",
      "34\n",
      "Buzz\n",
      "Fizz\n",
      "37\n",
      "38\n",
      "Fizz\n",
      "Buzz\n",
      "41\n",
      "Fizz\n",
      "43\n",
      "44\n",
      "FizzBuzz\n",
      "46\n",
      "47\n",
      "Fizz\n",
      "49\n",
      "Buzz\n",
      "Fizz\n",
      "52\n",
      "53\n",
      "Fizz\n",
      "Buzz\n",
      "56\n",
      "Fizz\n",
      "58\n",
      "59\n",
      "FizzBuzz\n",
      "61\n",
      "62\n",
      "Fizz\n",
      "64\n",
      "Buzz\n",
      "Fizz\n",
      "67\n",
      "68\n",
      "Fizz\n",
      "Buzz\n",
      "71\n",
      "Fizz\n",
      "73\n",
      "74\n",
      "FizzBuzz\n",
      "76\n",
      "77\n",
      "Fizz\n",
      "79\n",
      "Buzz\n",
      "Fizz\n",
      "82\n",
      "83\n",
      "Fizz\n",
      "Buzz\n",
      "86\n",
      "Fizz\n",
      "88\n",
      "89\n",
      "FizzBuzz\n",
      "91\n",
      "92\n",
      "Fizz\n",
      "94\n",
      "Buzz\n",
      "Fizz\n",
      "97\n",
      "98\n",
      "Fizz\n",
      "Buzz\n"
     ]
    }
   ],
   "source": [
    "for n in range(1, 101):\n",
    "    if n % 15 == 0:\n",
    "        print('FizzBuzz')\n",
    "    elif n % 5 == 0:\n",
    "        print('Buzz')\n",
    "    elif n % 3 == 0:\n",
    "        print('Fizz')\n",
    "    else:\n",
    "        print(n)"
   ]
  },
  {
   "cell_type": "markdown",
   "id": "e44d5e87-17f5-45e2-aae8-7fe92324c860",
   "metadata": {},
   "source": [
    "Ternary Operators in Python == Single Line if/else statements:"
   ]
  },
  {
   "cell_type": "code",
   "execution_count": 19,
   "id": "7cd71173-0906-4ff7-9757-7361dbfb4cca",
   "metadata": {},
   "outputs": [
    {
     "data": {
      "text/plain": [
       "'odd'"
      ]
     },
     "execution_count": 19,
     "metadata": {},
     "output_type": "execute_result"
    }
   ],
   "source": [
    "n = 15\n",
    "fizzbuzz = 'fizz' if n % 2 == 0 else 'odd'\n",
    "fizzbuzz"
   ]
  },
  {
   "cell_type": "markdown",
   "id": "d6a8da79-b53c-49b9-8010-2ac8c1b87e61",
   "metadata": {},
   "source": [
    "You can also string together ternary operators. In fact, you can do fizzbuzz in one line of code like so:"
   ]
  },
  {
   "cell_type": "code",
   "execution_count": 21,
   "id": "79bcfe54-ae4e-48dd-ab30-c7aa5556431e",
   "metadata": {},
   "outputs": [
    {
     "data": {
      "text/plain": [
       "['Fizzbuzz',\n",
       " 1,\n",
       " 2,\n",
       " 'Fizz',\n",
       " 4,\n",
       " 'Buzz',\n",
       " 'Fizz',\n",
       " 7,\n",
       " 8,\n",
       " 'Fizz',\n",
       " 'Buzz',\n",
       " 11,\n",
       " 'Fizz',\n",
       " 13,\n",
       " 14,\n",
       " 'Fizzbuzz',\n",
       " 16,\n",
       " 17,\n",
       " 'Fizz',\n",
       " 19,\n",
       " 'Buzz',\n",
       " 'Fizz',\n",
       " 22,\n",
       " 23,\n",
       " 'Fizz',\n",
       " 'Buzz',\n",
       " 26,\n",
       " 'Fizz',\n",
       " 28,\n",
       " 29,\n",
       " 'Fizzbuzz',\n",
       " 31,\n",
       " 32,\n",
       " 'Fizz',\n",
       " 34,\n",
       " 'Buzz',\n",
       " 'Fizz',\n",
       " 37,\n",
       " 38,\n",
       " 'Fizz',\n",
       " 'Buzz',\n",
       " 41,\n",
       " 'Fizz',\n",
       " 43,\n",
       " 44,\n",
       " 'Fizzbuzz',\n",
       " 46,\n",
       " 47,\n",
       " 'Fizz',\n",
       " 49,\n",
       " 'Buzz',\n",
       " 'Fizz',\n",
       " 52,\n",
       " 53,\n",
       " 'Fizz',\n",
       " 'Buzz',\n",
       " 56,\n",
       " 'Fizz',\n",
       " 58,\n",
       " 59,\n",
       " 'Fizzbuzz',\n",
       " 61,\n",
       " 62,\n",
       " 'Fizz',\n",
       " 64,\n",
       " 'Buzz',\n",
       " 'Fizz',\n",
       " 67,\n",
       " 68,\n",
       " 'Fizz',\n",
       " 'Buzz',\n",
       " 71,\n",
       " 'Fizz',\n",
       " 73,\n",
       " 74,\n",
       " 'Fizzbuzz',\n",
       " 76,\n",
       " 77,\n",
       " 'Fizz',\n",
       " 79,\n",
       " 'Buzz',\n",
       " 'Fizz',\n",
       " 82,\n",
       " 83,\n",
       " 'Fizz',\n",
       " 'Buzz',\n",
       " 86,\n",
       " 'Fizz',\n",
       " 88,\n",
       " 89,\n",
       " 'Fizzbuzz',\n",
       " 91,\n",
       " 92,\n",
       " 'Fizz',\n",
       " 94,\n",
       " 'Buzz',\n",
       " 'Fizz',\n",
       " 97,\n",
       " 98,\n",
       " 'Fizz',\n",
       " 'Buzz']"
      ]
     },
     "execution_count": 21,
     "metadata": {},
     "output_type": "execute_result"
    }
   ],
   "source": [
    "['Fizzbuzz' if n % 15 == 0 else 'Buzz' if n % 5 == 0 else 'Fizz' if n % 3 == 0 else n for n in range(0, 101)]"
   ]
  },
  {
   "cell_type": "code",
   "execution_count": 23,
   "id": "535051ac-3a2c-4525-b635-9faea5ac02c8",
   "metadata": {},
   "outputs": [],
   "source": [
    "from datetime import datetime\n",
    "import time"
   ]
  },
  {
   "cell_type": "code",
   "execution_count": 24,
   "id": "00306e3f-4f04-46aa-897e-55804d4e310d",
   "metadata": {},
   "outputs": [
    {
     "name": "stdout",
     "output_type": "stream",
     "text": [
      "still waiting\n",
      "still waiting\n",
      "still waiting\n",
      "still waiting\n",
      "still waiting\n",
      "still waiting\n",
      "still waiting\n",
      "still waiting\n",
      "still waiting\n",
      "still waiting\n",
      "still waiting\n",
      "still waiting\n",
      "still waiting\n",
      "still waiting\n",
      "still waiting\n",
      "still waiting\n",
      "still waiting\n",
      "still waiting\n",
      "still waiting\n",
      "still waiting\n",
      "We are at 28 seconds!\n"
     ]
    }
   ],
   "source": [
    "stoptime = (datetime.now().second + 2) % 60\n",
    "while datetime.now().second != stoptime:\n",
    "    print('still waiting')\n",
    "    time.sleep(0.1)\n",
    "print(f'We are at {stoptime} seconds!')    "
   ]
  },
  {
   "cell_type": "markdown",
   "id": "f223b592-3f1f-42cb-b0bc-9f523a18eac2",
   "metadata": {},
   "source": [
    "This formulation of the while loop, in my opinion, is the most logical and straightforward. However, there are other syntaxes you can use to get teh same effect which might be appropriate depending on the situation. For example, the \"break\" statement is used to break out of 1 level of the current loop.\n",
    "\n",
    "So, another way to achieve the same thing, using a \"break\" statement, would be the following:"
   ]
  },
  {
   "cell_type": "code",
   "execution_count": 26,
   "id": "ffc32e8f-0ead-46fd-a8f6-6d3e9d3736cd",
   "metadata": {},
   "outputs": [
    {
     "name": "stdout",
     "output_type": "stream",
     "text": [
      "Still waiting!\n",
      "Still waiting!\n",
      "Still waiting!\n",
      "Still waiting!\n",
      "Still waiting!\n",
      "Still waiting!\n",
      "Still waiting!\n",
      "Still waiting!\n",
      "Still waiting!\n",
      "Still waiting!\n",
      "Still waiting!\n",
      "Still waiting!\n",
      "Still waiting!\n",
      "Still waiting!\n",
      "We are at 10 seconds!\n"
     ]
    }
   ],
   "source": [
    "stoptime = (datetime.now().second + 2) % 60\n",
    "\n",
    "while True:\n",
    "    print('Still waiting!')\n",
    "    time.sleep(0.1)\n",
    "    if datetime.now().second == stoptime:\n",
    "        print(f'We are at {stoptime} seconds!')\n",
    "        break"
   ]
  },
  {
   "cell_type": "markdown",
   "id": "cbcf9409-fb5c-4773-b022-6d8c8e5e1d68",
   "metadata": {},
   "source": [
    "Continue - continue is used to skip to the next iteration of a loop. It does not break out of a loop, but sometimes you may want to skip part of the current iteration if some condition is met. For example, we can make a loop that prints out the second only on even seconds:"
   ]
  },
  {
   "cell_type": "code",
   "execution_count": 27,
   "id": "4cd6538c-fe75-4802-8608-90b4bc0633b4",
   "metadata": {},
   "outputs": [
    {
     "name": "stdout",
     "output_type": "stream",
     "text": [
      "even second\n",
      "It is 54 seconds\n",
      "even second\n",
      "It is 54 seconds\n",
      "even second\n",
      "It is 54 seconds\n",
      "even second\n",
      "It is 54 seconds\n",
      "even second\n",
      "It is 54 seconds\n",
      "even second\n",
      "It is 54 seconds\n",
      "even second\n",
      "It is 54 seconds\n",
      "odd second\n",
      "odd second\n",
      "odd second\n",
      "odd second\n",
      "odd second\n",
      "odd second\n",
      "odd second\n",
      "odd second\n",
      "odd second\n",
      "odd second\n",
      "even second\n",
      "It is 56 seconds\n",
      "even second\n",
      "It is 56 seconds\n",
      "even second\n",
      "It is 56 seconds\n",
      "even second\n",
      "It is 56 seconds\n",
      "even second\n",
      "It is 56 seconds\n",
      "even second\n",
      "It is 56 seconds\n",
      "even second\n",
      "It is 56 seconds\n",
      "even second\n",
      "It is 56 seconds\n",
      "even second\n",
      "It is 56 seconds\n",
      "even second\n",
      "It is 56 seconds\n",
      "odd second\n",
      "odd second\n",
      "odd second\n",
      "odd second\n",
      "odd second\n",
      "odd second\n",
      "odd second\n",
      "odd second\n",
      "odd second\n",
      "odd second\n",
      "even second\n",
      "It is 58 seconds\n",
      "even second\n",
      "It is 58 seconds\n",
      "even second\n",
      "It is 58 seconds\n",
      "even second\n",
      "It is 58 seconds\n",
      "even second\n",
      "It is 58 seconds\n",
      "even second\n",
      "It is 58 seconds\n",
      "even second\n",
      "It is 58 seconds\n",
      "even second\n",
      "It is 58 seconds\n",
      "even second\n",
      "It is 58 seconds\n",
      "even second\n",
      "It is 58 seconds\n",
      "odd second\n",
      "odd second\n",
      "odd second\n",
      "odd second\n",
      "odd second\n",
      "odd second\n",
      "odd second\n",
      "odd second\n",
      "odd second\n",
      "odd second\n",
      "even second\n",
      "It is 0 seconds\n",
      "even second\n",
      "It is 0 seconds\n",
      "even second\n",
      "It is 0 seconds\n",
      "even second\n",
      "It is 0 seconds\n",
      "even second\n",
      "It is 0 seconds\n",
      "even second\n",
      "It is 0 seconds\n",
      "even second\n",
      "It is 0 seconds\n",
      "even second\n",
      "It is 0 seconds\n",
      "even second\n",
      "It is 0 seconds\n",
      "odd second\n",
      "odd second\n",
      "odd second\n",
      "odd second\n",
      "odd second\n",
      "odd second\n",
      "odd second\n",
      "odd second\n",
      "odd second\n",
      "odd second\n",
      "even second\n",
      "It is 2 seconds\n",
      "even second\n",
      "It is 2 seconds\n",
      "even second\n",
      "It is 2 seconds\n",
      "even second\n",
      "It is 2 seconds\n",
      "even second\n",
      "It is 2 seconds\n",
      "even second\n",
      "It is 2 seconds\n",
      "even second\n",
      "It is 2 seconds\n",
      "even second\n",
      "It is 2 seconds\n",
      "even second\n",
      "It is 2 seconds\n",
      "even second\n",
      "It is 2 seconds\n",
      "odd second\n",
      "odd second\n",
      "odd second\n",
      "odd second\n",
      "odd second\n",
      "odd second\n",
      "odd second\n",
      "odd second\n",
      "odd second\n",
      "odd second\n",
      "even second\n",
      "It is 4 seconds\n"
     ]
    }
   ],
   "source": [
    "stoptime = (datetime.now().second + 10) % 60\n",
    "\n",
    "while True:\n",
    "    if datetime.now().second % 2 == 0:\n",
    "        print('even second')\n",
    "    else:\n",
    "        print('odd second')\n",
    "        time.sleep(0.1)\n",
    "        continue\n",
    "    print(f'It is {datetime.now().second} seconds')\n",
    "    time.sleep(0.1)\n",
    "    if datetime.now().second == stoptime:\n",
    "        break"
   ]
  },
  {
   "cell_type": "code",
   "execution_count": 29,
   "id": "f489e7db-8351-4cf4-81f8-5d89f416f84d",
   "metadata": {},
   "outputs": [
    {
     "name": "stdout",
     "output_type": "stream",
     "text": [
      "2 is prime!\n",
      "3 is prime!\n",
      "5 is prime!\n",
      "7 is prime!\n",
      "11 is prime!\n",
      "13 is prime!\n",
      "17 is prime!\n",
      "19 is prime!\n",
      "23 is prime!\n",
      "29 is prime!\n",
      "31 is prime!\n",
      "37 is prime!\n",
      "41 is prime!\n",
      "43 is prime!\n",
      "47 is prime!\n",
      "53 is prime!\n",
      "59 is prime!\n",
      "61 is prime!\n",
      "67 is prime!\n",
      "71 is prime!\n",
      "73 is prime!\n",
      "79 is prime!\n",
      "83 is prime!\n",
      "89 is prime!\n",
      "97 is prime!\n"
     ]
    }
   ],
   "source": [
    "for number in range(2, 100):\n",
    "    for factor in range(2, int(number**0.5)+1):\n",
    "        if number % factor == 0:\n",
    "            break\n",
    "    else:\n",
    "        print(f'{number} is prime!')"
   ]
  },
  {
   "cell_type": "code",
   "execution_count": null,
   "id": "f2f387b4-9d5c-4771-98ba-e4e091cf459f",
   "metadata": {},
   "outputs": [],
   "source": []
  }
 ],
 "metadata": {
  "kernelspec": {
   "display_name": "Python 3 (ipykernel)",
   "language": "python",
   "name": "python3"
  },
  "language_info": {
   "codemirror_mode": {
    "name": "ipython",
    "version": 3
   },
   "file_extension": ".py",
   "mimetype": "text/x-python",
   "name": "python",
   "nbconvert_exporter": "python",
   "pygments_lexer": "ipython3",
   "version": "3.11.0"
  }
 },
 "nbformat": 4,
 "nbformat_minor": 5
}
