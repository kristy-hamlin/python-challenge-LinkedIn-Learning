{
 "cells": [
  {
   "cell_type": "markdown",
   "id": "38ba54b1-d066-403d-92ee-465542c0c1bc",
   "metadata": {},
   "source": [
    "The type() function will tell you what type of variable you passed to it:"
   ]
  },
  {
   "cell_type": "code",
   "execution_count": 1,
   "id": "17cf00c1-d8a7-4e33-b72c-2335ed9b0205",
   "metadata": {},
   "outputs": [
    {
     "data": {
      "text/plain": [
       "int"
      ]
     },
     "execution_count": 1,
     "metadata": {},
     "output_type": "execute_result"
    }
   ],
   "source": [
    "x = 5\n",
    "type(x)"
   ]
  },
  {
   "cell_type": "code",
   "execution_count": 2,
   "id": "01f60ac9-c683-4460-ae6c-23819f557f19",
   "metadata": {},
   "outputs": [
    {
     "data": {
      "text/plain": [
       "str"
      ]
     },
     "execution_count": 2,
     "metadata": {},
     "output_type": "execute_result"
    }
   ],
   "source": [
    "x = 'hello'\n",
    "type(x)"
   ]
  },
  {
   "cell_type": "code",
   "execution_count": 3,
   "id": "23b60e50-7d13-42ca-876a-e149be2b6f64",
   "metadata": {},
   "outputs": [
    {
     "data": {
      "text/plain": [
       "float"
      ]
     },
     "execution_count": 3,
     "metadata": {},
     "output_type": "execute_result"
    }
   ],
   "source": [
    "x = 1.4\n",
    "type(x)"
   ]
  },
  {
   "cell_type": "markdown",
   "id": "7ea7912f-ceb0-4acd-bb83-6a274e293b5f",
   "metadata": {},
   "source": [
    "You can also use complex numbers in Python, instead of sqrt(-1) = i like in school, sqrt(-1) is designated as j, which is the more common engineering notation. \n",
    "\n",
    "You can do math using j and complex numbers.\n"
   ]
  },
  {
   "cell_type": "code",
   "execution_count": 4,
   "id": "91ff930b-e540-45ee-855e-cc099eff2675",
   "metadata": {},
   "outputs": [
    {
     "data": {
      "text/plain": [
       "complex"
      ]
     },
     "execution_count": 4,
     "metadata": {},
     "output_type": "execute_result"
    }
   ],
   "source": [
    "x = 1j + 2\n",
    "type(x)"
   ]
  },
  {
   "cell_type": "code",
   "execution_count": 5,
   "id": "592f24d1-63eb-4ae0-9fc7-9ca111b47d5d",
   "metadata": {},
   "outputs": [
    {
     "data": {
      "text/plain": [
       "(-2+0j)"
      ]
     },
     "execution_count": 5,
     "metadata": {},
     "output_type": "execute_result"
    }
   ],
   "source": [
    "1j * 2j"
   ]
  },
  {
   "cell_type": "markdown",
   "id": "e6d20252-c63b-4303-afd0-6ae793250303",
   "metadata": {},
   "source": [
    "The + operator can be used to concatenate strings:"
   ]
  },
  {
   "cell_type": "code",
   "execution_count": 6,
   "id": "957d0697-c591-4da3-b92f-3b9538fc9487",
   "metadata": {},
   "outputs": [
    {
     "data": {
      "text/plain": [
       "'string 1string 2'"
      ]
     },
     "execution_count": 6,
     "metadata": {},
     "output_type": "execute_result"
    }
   ],
   "source": [
    "'string 1' + 'string 2'"
   ]
  },
  {
   "cell_type": "code",
   "execution_count": 7,
   "id": "fc17a86a-1725-41a2-8426-7e2a4fc332f0",
   "metadata": {},
   "outputs": [
    {
     "data": {
      "text/plain": [
       "'hello my good friend'"
      ]
     },
     "execution_count": 7,
     "metadata": {},
     "output_type": "execute_result"
    }
   ],
   "source": [
    "'hello ' + 'my good ' + 'friend'"
   ]
  },
  {
   "cell_type": "markdown",
   "id": "0478a639-137e-4e78-a550-00d2e3f71572",
   "metadata": {},
   "source": [
    "I believe you can use the * operator to multiply a string, if I am remembering correctly:"
   ]
  },
  {
   "cell_type": "code",
   "execution_count": 8,
   "id": "c7db1127-44fb-4bfd-931f-01d6a263a989",
   "metadata": {},
   "outputs": [
    {
     "data": {
      "text/plain": [
       "'hello ducks hello ducks hello ducks hello ducks '"
      ]
     },
     "execution_count": 8,
     "metadata": {},
     "output_type": "execute_result"
    }
   ],
   "source": [
    "'hello ducks ' * 4"
   ]
  },
  {
   "cell_type": "markdown",
   "id": "6f9c407e-1233-44f9-90fb-a6cbc3519475",
   "metadata": {},
   "source": [
    "Booleans in Python are written with the first letter capital. True, and False.\n",
    "\n"
   ]
  },
  {
   "cell_type": "raw",
   "id": "dced8d49-36a7-45b6-9523-2b44cae54ca2",
   "metadata": {},
   "source": [
    "The round() function will round a float to the nearest int. Conversely, if you pass in a second argument, it will round to the number of decimal places specified."
   ]
  },
  {
   "cell_type": "code",
   "execution_count": 1,
   "id": "f9892f4c-fbf4-4867-8719-187d8a96e6b1",
   "metadata": {},
   "outputs": [
    {
     "data": {
      "text/plain": [
       "9"
      ]
     },
     "execution_count": 1,
     "metadata": {},
     "output_type": "execute_result"
    }
   ],
   "source": [
    "round(8.999)"
   ]
  },
  {
   "cell_type": "code",
   "execution_count": 2,
   "id": "cf65597d-4817-4617-87ed-248330be5397",
   "metadata": {},
   "outputs": [
    {
     "data": {
      "text/plain": [
       "8"
      ]
     },
     "execution_count": 2,
     "metadata": {},
     "output_type": "execute_result"
    }
   ],
   "source": [
    "round(8.5)"
   ]
  },
  {
   "cell_type": "code",
   "execution_count": 3,
   "id": "9a276967-0749-499c-9012-db86a68ea7fd",
   "metadata": {},
   "outputs": [
    {
     "data": {
      "text/plain": [
       "8.49"
      ]
     },
     "execution_count": 3,
     "metadata": {},
     "output_type": "execute_result"
    }
   ],
   "source": [
    "round(8.49, 2)"
   ]
  },
  {
   "cell_type": "code",
   "execution_count": 4,
   "id": "87f9820d-368e-43e0-bd04-7947300bc3a2",
   "metadata": {},
   "outputs": [
    {
     "data": {
      "text/plain": [
       "8.5"
      ]
     },
     "execution_count": 4,
     "metadata": {},
     "output_type": "execute_result"
    }
   ],
   "source": [
    "round(8.499, 2)"
   ]
  },
  {
   "cell_type": "code",
   "execution_count": 5,
   "id": "deafda48-14fd-49c9-ae73-71367827d0c4",
   "metadata": {},
   "outputs": [
    {
     "data": {
      "text/plain": [
       "32"
      ]
     },
     "execution_count": 5,
     "metadata": {},
     "output_type": "execute_result"
    }
   ],
   "source": [
    "int('100000', 2)"
   ]
  },
  {
   "cell_type": "code",
   "execution_count": 6,
   "id": "525b42b4-a8f4-4332-bd42-4e59ee2ed822",
   "metadata": {},
   "outputs": [
    {
     "data": {
      "text/plain": [
       "1"
      ]
     },
     "execution_count": 6,
     "metadata": {},
     "output_type": "execute_result"
    }
   ],
   "source": [
    "int('1', 2)"
   ]
  },
  {
   "cell_type": "code",
   "execution_count": 7,
   "id": "42e42b04-9e4e-43fd-99a2-aad1aee2c7ba",
   "metadata": {},
   "outputs": [
    {
     "data": {
      "text/plain": [
       "2"
      ]
     },
     "execution_count": 7,
     "metadata": {},
     "output_type": "execute_result"
    }
   ],
   "source": [
    "int('10', 2)"
   ]
  },
  {
   "cell_type": "code",
   "execution_count": 8,
   "id": "1785596b-02fa-4784-babd-c9f8581d7eec",
   "metadata": {},
   "outputs": [
    {
     "data": {
      "text/plain": [
       "3"
      ]
     },
     "execution_count": 8,
     "metadata": {},
     "output_type": "execute_result"
    }
   ],
   "source": [
    "int('11', 2)"
   ]
  },
  {
   "cell_type": "code",
   "execution_count": 9,
   "id": "1d1bfb85-cca5-4fb0-9bad-558e496ebc3d",
   "metadata": {},
   "outputs": [
    {
     "data": {
      "text/plain": [
       "10"
      ]
     },
     "execution_count": 9,
     "metadata": {},
     "output_type": "execute_result"
    }
   ],
   "source": [
    "int('a', 16)"
   ]
  },
  {
   "cell_type": "code",
   "execution_count": 10,
   "id": "7bda0c66-3a7d-4070-9401-da947d5dbb0b",
   "metadata": {},
   "outputs": [],
   "source": [
    "from decimal import Decimal, getcontext"
   ]
  },
  {
   "cell_type": "code",
   "execution_count": 11,
   "id": "328e9ccb-0da0-4c11-9e3f-444dba463412",
   "metadata": {},
   "outputs": [
    {
     "data": {
      "text/plain": [
       "Decimal('3.140000000000000124344978758017532527446746826171875')"
      ]
     },
     "execution_count": 11,
     "metadata": {},
     "output_type": "execute_result"
    }
   ],
   "source": [
    "Decimal(3.14)"
   ]
  },
  {
   "cell_type": "code",
   "execution_count": 12,
   "id": "f13e67b6-0411-4147-9b9f-e932110d374a",
   "metadata": {},
   "outputs": [
    {
     "data": {
      "text/plain": [
       "Decimal('0.2')"
      ]
     },
     "execution_count": 12,
     "metadata": {},
     "output_type": "execute_result"
    }
   ],
   "source": [
    "Decimal(1)/Decimal(5)"
   ]
  },
  {
   "cell_type": "code",
   "execution_count": null,
   "id": "9bdc2547-d81a-49e5-8c24-b12c861b13b0",
   "metadata": {},
   "outputs": [],
   "source": []
  }
 ],
 "metadata": {
  "kernelspec": {
   "display_name": "Python 3 (ipykernel)",
   "language": "python",
   "name": "python3"
  },
  "language_info": {
   "codemirror_mode": {
    "name": "ipython",
    "version": 3
   },
   "file_extension": ".py",
   "mimetype": "text/x-python",
   "name": "python",
   "nbconvert_exporter": "python",
   "pygments_lexer": "ipython3",
   "version": "3.11.0"
  }
 },
 "nbformat": 4,
 "nbformat_minor": 5
}
